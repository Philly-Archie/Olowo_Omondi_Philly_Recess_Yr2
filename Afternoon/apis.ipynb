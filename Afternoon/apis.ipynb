{
 "cells": [
  {
   "cell_type": "code",
   "execution_count": 11,
   "metadata": {},
   "outputs": [
    {
     "name": "stdout",
     "output_type": "stream",
     "text": [
      "200\n",
      "<bound method Response.json of <Response [200]>>\n",
      "None\n"
     ]
    }
   ],
   "source": [
    "# API DEVELOPMENT\n",
    "import requests\n",
    "import json \n",
    "def get_stock_data():\n",
    "    url = f\" https://www.alphavantage.co/query?function\"\n",
    "    response = requests.get(url)\n",
    "    print(response.status_code)\n",
    "\n",
    "    if response.status_code == 200:\n",
    "        data = response.json\n",
    "        print(data)\n",
    "\n",
    "print(get_stock_data())"
   ]
  },
  {
   "cell_type": "code",
   "execution_count": 7,
   "metadata": {},
   "outputs": [],
   "source": [
    "# API STATUS CODES\n",
    "# 200 - OK\n",
    "# 201 - Created\n",
    "# 202 - Accepted\n",
    "# 204 - No Content\n",
    "# 300 - Multiple choices\n",
    "# 301 - Moved Permanently\n",
    "# 302 - Found\n",
    "# 400 - Bad Request\n",
    "# 401 - Unauthorized\n",
    "# 403 - Forbidden\n",
    "# 404 - Not Found\n",
    "# 405 - Method Not Allowed\n",
    "# 406 - Not Acceptable\n",
    "# 409 - Conflict\n",
    "# 500 - Internal Server Error\n",
    "# 501 - Not Implemented\n",
    "# 502 - Bad Gateway\n",
    "# 503 - Service Unavailable\n",
    "# 504 - Gateway Timeout\n",
    "# 505 - HTTP Version Not Supported\n"
   ]
  },
  {
   "cell_type": "code",
   "execution_count": null,
   "metadata": {},
   "outputs": [],
   "source": [
    "# REST API\n",
    "# REST ARCHITCTURE\n",
    "\n",
    "# Rest Api in full: Representational State Transfer\n",
    "\n",
    "# REST API is an architectural style for providing access to resources through URIs. The client and server\n",
    "# exchange data (often XML) using a uniform set of HTTP request methods and status codes to indicate\n",
    "# common responses like success or error. The REST architecture is designed to take advantage of existing\n",
    "# infrastructure by using simple HTTP requests to for example query or update data. The REST architecture\n",
    "# is often used in combination with web services to provide interoperability between applications on the\n",
    "# Internet. The REST architecture is based on six guiding constraints:\n",
    "\n",
    "# Stateless\n",
    "# Cacheable\n",
    "# Layered system\n",
    "# Client-server\n",
    "# Uniform Interface\n",
    "# Code on demand (optional)"
   ]
  }
 ],
 "metadata": {
  "kernelspec": {
   "display_name": "Python 3",
   "language": "python",
   "name": "python3"
  },
  "language_info": {
   "codemirror_mode": {
    "name": "ipython",
    "version": 3
   },
   "file_extension": ".py",
   "mimetype": "text/x-python",
   "name": "python",
   "nbconvert_exporter": "python",
   "pygments_lexer": "ipython3",
   "version": "3.12.4"
  }
 },
 "nbformat": 4,
 "nbformat_minor": 2
}
