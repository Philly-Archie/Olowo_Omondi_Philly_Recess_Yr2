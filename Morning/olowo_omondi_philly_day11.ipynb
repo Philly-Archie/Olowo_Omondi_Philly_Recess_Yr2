{
 "cells": [
  {
   "cell_type": "code",
   "execution_count": 1,
   "metadata": {},
   "outputs": [],
   "source": [
    "# Machine Learning\n",
    "# Types of Supervised Learning\n",
    "#Unsupervised Learning\n",
    "# Reinforcement Learning"
   ]
  },
  {
   "cell_type": "code",
   "execution_count": 1,
   "metadata": {},
   "outputs": [],
   "source": [
    "# Data preprocessing\n",
    "# Data Cleaning\n",
    "# Steps\n",
    "# Check for \n",
    "# 1. Duplicates, Wrong format, Empty cells, Missing data\n",
    "# Age 23, 230, 1.33, 1.44, 1.50, wrong format, 1/7/2024, 2/7/2024, 372024, NaN, 6/7/2024\n",
    "# Handling missing data, remove/delete, imputation, mean/median/mode -> Use Forward or Backward  filling, KNN or Regression"
   ]
  },
  {
   "cell_type": "code",
   "execution_count": 3,
   "metadata": {},
   "outputs": [],
   "source": [
    "# Exploratory Data Analysis(Numerical, Categorical, )\n",
    "# Steps According to my Ai\n",
    "# 1. Understand the data\n",
    "# 2. Visualize the data\n",
    "# 3. Draw conclusions from the data\n",
    "# 4. Communicate the results\n",
    "# 5. Make decisions based on the results\n",
    "# 6. Take action based on the decisions\n"
   ]
  },
  {
   "cell_type": "code",
   "execution_count": 2,
   "metadata": {},
   "outputs": [],
   "source": [
    "# Exploratory Data Analysis(Numerical, Categorical, )\n",
    "# Steps\n",
    "# Descriptive Statistics\n",
    "# Measure of Central Tendancy, Mean, Mode, Median\n",
    "# Measure of Range, Variance, Standard Deviation, Range, Interquartile Range\n",
    "# Measure of Skewness, Kurtosis, Box Plot, Histogram, QQ Plot, Normality\n",
    "# Data visualisation -> Histogram(Distribution of single variable), Box Plots(Identifying Outliers)\n",
    "# Correlation -> Scatter Plot(Examining relationships between two variables),Correlation Matrix\n",
    "# Heat Map -> Visualising corellation metrics"
   ]
  },
  {
   "cell_type": "code",
   "execution_count": 4,
   "metadata": {},
   "outputs": [],
   "source": [
    "# Tools for data visualisation\n",
    "# Matplotlib, Line, Bar, Scatter and histogram\n",
    "# Seaborn, themes, colo palettes, looks more attractive\n",
    "# Plotly, Bokeh"
   ]
  },
  {
   "cell_type": "code",
   "execution_count": 6,
   "metadata": {},
   "outputs": [],
   "source": [
    "# Feature Engineering\n",
    "# Selection, Filter like chi-square, ANOVA,\n",
    "# Wrapper recursive features\n",
    "# Embedded, Lasso regression\n",
    "\n",
    "# // Feature scaling and normalization(Dealing with anormalies and outliers)\n",
    "# Normalization: rescale to a range, (Age, 20-28)\n",
    "# Standardization(Standard deviation): rescale to a mean of 0 and a standard deviation of 1, transform std\n",
    "\n",
    "# Create new features, polynomials, imteraction"
   ]
  },
  {
   "cell_type": "code",
   "execution_count": null,
   "metadata": {},
   "outputs": [],
   "source": [
    "# Data Splitting\n",
    "# Training and evaluation of a model (Splitting the data into training and testing sets)\n",
    "# Most common ratios, 20testing - 80training, 30,70\n",
    "# import Sckit-learn help to split train_test_split\n",
    "\n",
    "\n",
    "# Randomly split the data into training and testing sets\n",
    "# Splitting the data into training and testing sets is a common practice in machine learning. It is\n",
    "# important to ensure that the model is not overfitting the training data, and that the model\n",
    "# is able to generalize to new data. There are several ways to split the data, including random\n",
    "# splitting, stratified splitting, and k-fold cross-validation. In this exercise, you will practice\n",
    "# splitting the data into training and testing sets using the train_test_split function from the\n",
    "# sklearn.model_selection module.\n"
   ]
  },
  {
   "cell_type": "code",
   "execution_count": 7,
   "metadata": {},
   "outputs": [],
   "source": [
    "# Random state is used to shuffle data before splitting it into a training and test set.\n",
    "# The random_state is set to 0 to ensure that the same data is used for training and\n",
    "# testing in each run of the code.\n",
    "\n",
    "# Cross validation - evaluate the performance of the data, multiple folds\n",
    "# Types\n",
    "\n",
    "# K-fold cross validation - split the data into K folds, train on K-1 folds and\n",
    "# test on the remaining fold, repeat K times, average the results\n",
    "# Stratified K-fold cross validation - split the data into K folds, stratify the\n",
    "# data by class, train on K-1 folds and test on the remaining fold, repeat K\n",
    "# times, average the results\n",
    "\n",
    "# Stratified K-fold, ensure our distribution of the target variable, particularly used in the imbalance datasets\n",
    "# Cross validation helps in reducing variance in modle performance estimates\n",
    "# provides a comprehensive evaluation of model performance\n"
   ]
  },
  {
   "cell_type": "code",
   "execution_count": null,
   "metadata": {},
   "outputs": [],
   "source": [
    "# Supervised learning algorithm\n",
    "# 1. Regression (Linear, Polynomial)\n",
    "# 2. Classification (Logistic regression, KNN(k-Nearest Neighbor), SVM(Support Vector Machine), Naive Bayes, Decision Trees, Random Forest)\n",
    "# Model Evaluation\n",
    "# Metrics: Accuracy, Precision, Recall, F1 score\n",
    "# Confusion matrix\n",
    "# AUC AND ROC, Area under the curve, receive operating characteristics curve\n",
    "\n",
    "\n",
    "# 3. Clustering (K-means, Hierarchical)\n"
   ]
  },
  {
   "cell_type": "code",
   "execution_count": null,
   "metadata": {},
   "outputs": [],
   "source": [
    "# Summary Supervised Learning\n",
    "# Labbeled data, predict output for newinputs, common tasks , classification and regression\n",
    "\n",
    "# Summary of unserpervised learning\n",
    "# Unlabbeled data, find hidden patterns or structures in data, common tasks like , dimensionality, association rule learning\n",
    "# Unlabelled data, predict output for new inputs, common tasks, clustering and dimensionality reduction\n",
    "\n",
    "# Definition\n",
    "# Supervised learning: Learns from labeled data to predict output for new inputs\n",
    "# Unsupervised learning: Larns from unlabeled data to identify patterns and structures within data.\n",
    "\n",
    "\n",
    "# Supervised learning is a machine learning task of learning a function that maps an input to an output\n",
    "# based on example input-output pairs. It infers a function from labeled training data consisting of a\n",
    "# set of training examples. In supervised learning, each example is a pair consisting of an input object\n",
    "# (typically a vector) and a desired output value (also called the supervisory signal). A\n",
    "# supervised learning algorithm analyzes the training data and produces an inferred function, which can\n",
    "# be used for mapping new examples. An optimal scenario will allow for the algorithm to correctly determine\n",
    "# the class labels for unseen instances. This requires the learning algorithm to generalize from the\n",
    "# training data to unseen situations in a \"reasonable\" way. This is called the inductive bias\n",
    "\n",
    "\n",
    "# Unsupervised learning is a type of machine learning algorithm that can group, or cluster data points\n",
    "# into clusters without the target outputs being known a priori. Unsupervised learning algorithms are used\n",
    "# to find hidden patterns or structures in data. Unsupervised learning can be a goal in itself  \n",
    "# (e.g. market segmentation) or a means towards an end (e.g. feature learning\n",
    "# Unsupervised learning is a type of machine learning algorithm used to find hidden patterns or\n",
    "# structures in data when there is no existing category to put ther"
   ]
  }
 ],
 "metadata": {
  "kernelspec": {
   "display_name": "Python 3",
   "language": "python",
   "name": "python3"
  },
  "language_info": {
   "codemirror_mode": {
    "name": "ipython",
    "version": 3
   },
   "file_extension": ".py",
   "mimetype": "text/x-python",
   "name": "python",
   "nbconvert_exporter": "python",
   "pygments_lexer": "ipython3",
   "version": "3.11.9"
  }
 },
 "nbformat": 4,
 "nbformat_minor": 2
}
